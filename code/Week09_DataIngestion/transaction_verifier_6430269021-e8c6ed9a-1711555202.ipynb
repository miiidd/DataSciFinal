{
  "cells": [
    {
      "cell_type": "code",
      "execution_count": 1,
      "id": "3d144bf2",
      "metadata": {
        "colab": {
          "base_uri": "https://localhost:8080/"
        },
        "id": "3d144bf2",
        "outputId": "20e63e4b-3dcd-48eb-e6b6-c5ecb21a5a4d"
      },
      "outputs": [
        {
          "name": "stdout",
          "output_type": "stream",
          "text": [
            "Collecting kafka-python\n",
            "  Downloading kafka_python-2.0.2-py2.py3-none-any.whl (246 kB)\n",
            "\u001b[2K     \u001b[90m━━━━━━━━━━━━━━━━━━━━━━━━━━━━━━━━━━━━━━━━\u001b[0m \u001b[32m246.5/246.5 kB\u001b[0m \u001b[31m1.8 MB/s\u001b[0m eta \u001b[36m0:00:00\u001b[0m\n",
            "\u001b[?25hCollecting avro\n",
            "  Downloading avro-1.11.3.tar.gz (90 kB)\n",
            "\u001b[2K     \u001b[90m━━━━━━━━━━━━━━━━━━━━━━━━━━━━━━━━━━━━━━━━\u001b[0m \u001b[32m90.6/90.6 kB\u001b[0m \u001b[31m4.6 MB/s\u001b[0m eta \u001b[36m0:00:00\u001b[0m\n",
            "\u001b[?25h  Installing build dependencies ... \u001b[?25l\u001b[?25hdone\n",
            "  Getting requirements to build wheel ... \u001b[?25l\u001b[?25hdone\n",
            "  Preparing metadata (pyproject.toml) ... \u001b[?25l\u001b[?25hdone\n",
            "Building wheels for collected packages: avro\n",
            "  Building wheel for avro (pyproject.toml) ... \u001b[?25l\u001b[?25hdone\n",
            "  Created wheel for avro: filename=avro-1.11.3-py2.py3-none-any.whl size=123913 sha256=0ae96186582f5469a23ed7fdb674201e9d897932a63f5b10bfa42372bb52d2f7\n",
            "  Stored in directory: /root/.cache/pip/wheels/1d/f6/41/0e0399396af07060e64d4e32c8bd259b48b98a4a114df31294\n",
            "Successfully built avro\n",
            "Installing collected packages: kafka-python, avro\n",
            "Successfully installed avro-1.11.3 kafka-python-2.0.2\n"
          ]
        }
      ],
      "source": [
        "# import required libraries\n",
        "%pip install kafka-python avro\n",
        "from kafka import KafkaConsumer, KafkaProducer\n",
        "import avro.schema\n",
        "import avro.io\n",
        "import io\n",
        "import hashlib, json"
      ]
    },
    {
      "cell_type": "code",
      "execution_count": 2,
      "id": "6234ffde",
      "metadata": {
        "id": "6234ffde"
      },
      "outputs": [],
      "source": [
        "def serialize(schema, obj):\n",
        "    bytes_writer = io.BytesIO()\n",
        "    encoder = avro.io.BinaryEncoder(bytes_writer)\n",
        "    writer = avro.io.DatumWriter(schema)\n",
        "    writer.write(obj, encoder)\n",
        "    return bytes_writer.getvalue()"
      ]
    },
    {
      "cell_type": "code",
      "execution_count": 3,
      "id": "5e1434bb",
      "metadata": {
        "id": "5e1434bb"
      },
      "outputs": [],
      "source": [
        "def deserialize(schema, raw_bytes):\n",
        "    bytes_reader = io.BytesIO(raw_bytes)\n",
        "    decoder = avro.io.BinaryDecoder(bytes_reader)\n",
        "    reader = avro.io.DatumReader(schema)\n",
        "    return reader.read(decoder)"
      ]
    },
    {
      "cell_type": "code",
      "execution_count": 4,
      "id": "0e92e3e9",
      "metadata": {
        "id": "0e92e3e9"
      },
      "outputs": [],
      "source": [
        "schema_file = 'transaction.avsc'\n",
        "txschema = avro.schema.parse(open(schema_file).read())\n",
        "schema_file = 'submit.avsc'\n",
        "submitschema = avro.schema.parse(open(schema_file).read())\n",
        "schema_file = 'result.avsc'\n",
        "resultschema = avro.schema.parse(open(schema_file).read())"
      ]
    },
    {
      "cell_type": "code",
      "execution_count": 5,
      "id": "bcb5dc21",
      "metadata": {
        "id": "bcb5dc21"
      },
      "outputs": [],
      "source": [
        "# Connect to kafka broker running in your local host (docker). Change this to your kafka broker if needed\n",
        "kafka_broker = 'lab.aimet.tech:9092'"
      ]
    },
    {
      "cell_type": "code",
      "execution_count": 6,
      "id": "0e05b4b0",
      "metadata": {
        "id": "0e05b4b0"
      },
      "outputs": [],
      "source": [
        "producer = KafkaProducer(bootstrap_servers=[kafka_broker])"
      ]
    },
    {
      "cell_type": "code",
      "execution_count": 7,
      "id": "4a2555a3",
      "metadata": {
        "colab": {
          "base_uri": "https://localhost:8080/"
        },
        "id": "4a2555a3",
        "outputId": "16484c95-909b-467f-dc7d-2b8c0b137524"
      },
      "outputs": [
        {
          "name": "stderr",
          "output_type": "stream",
          "text": [
            "WARNING:kafka.coordinator.consumer:group_id is None: disabling auto-commit.\n",
            "WARNING:kafka.coordinator.consumer:group_id is None: disabling auto-commit.\n"
          ]
        }
      ],
      "source": [
        "txconsumer = KafkaConsumer(\n",
        "    'transaction',\n",
        "     bootstrap_servers=[kafka_broker],\n",
        "     enable_auto_commit=True,\n",
        "     value_deserializer=lambda x: deserialize(txschema, x))\n",
        "\n",
        "resultconsumer = KafkaConsumer(\n",
        "    'result',\n",
        "     bootstrap_servers=[kafka_broker],\n",
        "     enable_auto_commit=True,\n",
        "     value_deserializer=lambda x: deserialize(resultschema, x))"
      ]
    },
    {
      "cell_type": "code",
      "execution_count": 8,
      "id": "fe697a88",
      "metadata": {
        "id": "fe697a88"
      },
      "outputs": [],
      "source": [
        "def gen_signature(txid, payer, payee, amount, token):\n",
        "    o = {'txid': txid, 'payer': payer, 'payee': payee, 'amount': amount, 'token': token}\n",
        "    return hashlib.md5(json.dumps(o, sort_keys=True).encode('utf-8')).hexdigest()"
      ]
    },
    {
      "cell_type": "code",
      "execution_count": 9,
      "id": "b9915bcc",
      "metadata": {
        "colab": {
          "base_uri": "https://localhost:8080/"
        },
        "id": "b9915bcc",
        "outputId": "361d6456-a244-4c22-8737-0fe8782df90b"
      },
      "outputs": [
        {
          "name": "stdout",
          "output_type": "stream",
          "text": [
            "{'timestamp': 1711554743, 'vid': 'V208736', 'txid': 'TX01550', 'checksum': '25b529b87d08269c287a96f0b81db99f', 'code': 200, 'message': 'Confirm'}\n"
          ]
        }
      ],
      "source": [
        "# result = None\n",
        "for message in txconsumer:\n",
        "    transaction = message.value\n",
        "    txid = transaction[\"txid\"]\n",
        "    payer = transaction[\"payer\"]\n",
        "    payee = transaction[\"payee\"]\n",
        "    amount = transaction[\"amount\"]\n",
        "    token = \"2953a3965bab2f5319c1037c251bd081\"\n",
        "    signature = gen_signature(txid, payer, payee, amount, token)\n",
        "\n",
        "    # Prepare submission message\n",
        "    verification_data = {\"vid\": \"V414883\", \"txid\": txid, \"signature\": signature}\n",
        "    submit_message = serialize(submitschema, verification_data)\n",
        "\n",
        "    # Submit verification message\n",
        "    producer.send(\"submit\", submit_message)\n",
        "\n",
        "    # Wait for result\n",
        "    for result_message in resultconsumer:\n",
        "        result = result_message.value\n",
        "        if result['txid'] == verification_data['txid'] :\n",
        "          break\n",
        "    if result:\n",
        "      print(result)\n",
        "      break\n",
        "    else:\n",
        "      print(verification_data['txid'])"
      ]
    }
  ],
  "metadata": {
    "accelerator": "GPU",
    "colab": {
      "gpuType": "V100",
      "provenance": []
    },
    "kernelspec": {
      "display_name": "Python 3",
      "name": "python3"
    },
    "language_info": {
      "codemirror_mode": {
        "name": "ipython",
        "version": 3
      },
      "file_extension": ".py",
      "mimetype": "text/x-python",
      "name": "python",
      "nbconvert_exporter": "python",
      "pygments_lexer": "ipython3",
      "version": "3.9.13"
    }
  },
  "nbformat": 4,
  "nbformat_minor": 5
}
