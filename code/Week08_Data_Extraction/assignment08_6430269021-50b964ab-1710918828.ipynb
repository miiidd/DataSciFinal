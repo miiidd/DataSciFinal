{
  "cells": [
    {
      "cell_type": "markdown",
      "metadata": {
        "id": "LUL7TDtTao9L"
      },
      "source": [
        "# Assignment: Extracting Static WebPage\n",
        "\n",
        "Extract information about “วันพระ” for 3 years from:\n",
        "- https://www.myhora.com/ปฏิทิน/วันพระ-พ.ศ.2565.aspx\n",
        "- https://www.myhora.com/ปฏิทิน/วันพระ-พ.ศ.2566.aspx\n",
        "- https://www.myhora.com/ปฏิทิน/วันพระ-พ.ศ.2567.aspx\n"
      ]
    },
    {
      "cell_type": "markdown",
      "metadata": {
        "id": "-Td1F0A-ao9Q"
      },
      "source": [
        "Note that you can use dateparse package to parse Thai date.  First, we will have to install the package, this is for Google Colab users.  Otherwise, installing via command line is recommended (pip or conda)."
      ]
    },
    {
      "cell_type": "code",
      "execution_count": 7,
      "metadata": {
        "scrolled": true,
        "id": "kG868Zg0ao9Q",
        "colab": {
          "base_uri": "https://localhost:8080/"
        },
        "outputId": "3a7ee83e-8579-443d-e574-2ad15f922b70"
      },
      "outputs": [
        {
          "output_type": "stream",
          "name": "stdout",
          "text": [
            "Requirement already satisfied: dateparser in /usr/local/lib/python3.10/dist-packages (1.2.0)\n",
            "Requirement already satisfied: python-dateutil in /usr/local/lib/python3.10/dist-packages (from dateparser) (2.8.2)\n",
            "Requirement already satisfied: pytz in /usr/local/lib/python3.10/dist-packages (from dateparser) (2023.4)\n",
            "Requirement already satisfied: regex!=2019.02.19,!=2021.8.27 in /usr/local/lib/python3.10/dist-packages (from dateparser) (2023.12.25)\n",
            "Requirement already satisfied: tzlocal in /usr/local/lib/python3.10/dist-packages (from dateparser) (5.2)\n",
            "Requirement already satisfied: six>=1.5 in /usr/local/lib/python3.10/dist-packages (from python-dateutil->dateparser) (1.16.0)\n"
          ]
        }
      ],
      "source": [
        "import sys\n",
        "IN_COLAB = 'google.colab' in sys.modules\n",
        "if IN_COLAB:\n",
        "    %pip install dateparser"
      ]
    },
    {
      "cell_type": "code",
      "execution_count": 8,
      "metadata": {
        "id": "w-I22MzLao9S"
      },
      "outputs": [],
      "source": [
        "import dateparser"
      ]
    },
    {
      "cell_type": "code",
      "source": [
        "%pip install dateparser selenium chromedriver_autoinstall"
      ],
      "metadata": {
        "colab": {
          "base_uri": "https://localhost:8080/"
        },
        "id": "5Y9619TIfU9e",
        "outputId": "9b3bc839-e03f-4ce2-d44e-ebb6a0bd07f4"
      },
      "execution_count": 9,
      "outputs": [
        {
          "output_type": "stream",
          "name": "stdout",
          "text": [
            "Requirement already satisfied: dateparser in /usr/local/lib/python3.10/dist-packages (1.2.0)\n",
            "Requirement already satisfied: selenium in /usr/local/lib/python3.10/dist-packages (4.18.1)\n",
            "Requirement already satisfied: chromedriver_autoinstall in /usr/local/lib/python3.10/dist-packages (1.0)\n",
            "Requirement already satisfied: python-dateutil in /usr/local/lib/python3.10/dist-packages (from dateparser) (2.8.2)\n",
            "Requirement already satisfied: pytz in /usr/local/lib/python3.10/dist-packages (from dateparser) (2023.4)\n",
            "Requirement already satisfied: regex!=2019.02.19,!=2021.8.27 in /usr/local/lib/python3.10/dist-packages (from dateparser) (2023.12.25)\n",
            "Requirement already satisfied: tzlocal in /usr/local/lib/python3.10/dist-packages (from dateparser) (5.2)\n",
            "Requirement already satisfied: urllib3[socks]<3,>=1.26 in /usr/local/lib/python3.10/dist-packages (from selenium) (2.0.7)\n",
            "Requirement already satisfied: trio~=0.17 in /usr/local/lib/python3.10/dist-packages (from selenium) (0.25.0)\n",
            "Requirement already satisfied: trio-websocket~=0.9 in /usr/local/lib/python3.10/dist-packages (from selenium) (0.11.1)\n",
            "Requirement already satisfied: certifi>=2021.10.8 in /usr/local/lib/python3.10/dist-packages (from selenium) (2024.2.2)\n",
            "Requirement already satisfied: typing_extensions>=4.9.0 in /usr/local/lib/python3.10/dist-packages (from selenium) (4.10.0)\n",
            "Requirement already satisfied: requests in /usr/local/lib/python3.10/dist-packages (from chromedriver_autoinstall) (2.31.0)\n",
            "Requirement already satisfied: bs4 in /usr/local/lib/python3.10/dist-packages (from chromedriver_autoinstall) (0.0.2)\n",
            "Requirement already satisfied: lxml in /usr/local/lib/python3.10/dist-packages (from chromedriver_autoinstall) (4.9.4)\n",
            "Requirement already satisfied: attrs>=23.2.0 in /usr/local/lib/python3.10/dist-packages (from trio~=0.17->selenium) (23.2.0)\n",
            "Requirement already satisfied: sortedcontainers in /usr/local/lib/python3.10/dist-packages (from trio~=0.17->selenium) (2.4.0)\n",
            "Requirement already satisfied: idna in /usr/local/lib/python3.10/dist-packages (from trio~=0.17->selenium) (3.6)\n",
            "Requirement already satisfied: outcome in /usr/local/lib/python3.10/dist-packages (from trio~=0.17->selenium) (1.3.0.post0)\n",
            "Requirement already satisfied: sniffio>=1.3.0 in /usr/local/lib/python3.10/dist-packages (from trio~=0.17->selenium) (1.3.1)\n",
            "Requirement already satisfied: exceptiongroup in /usr/local/lib/python3.10/dist-packages (from trio~=0.17->selenium) (1.2.0)\n",
            "Requirement already satisfied: wsproto>=0.14 in /usr/local/lib/python3.10/dist-packages (from trio-websocket~=0.9->selenium) (1.2.0)\n",
            "Requirement already satisfied: pysocks!=1.5.7,<2.0,>=1.5.6 in /usr/local/lib/python3.10/dist-packages (from urllib3[socks]<3,>=1.26->selenium) (1.7.1)\n",
            "Requirement already satisfied: beautifulsoup4 in /usr/local/lib/python3.10/dist-packages (from bs4->chromedriver_autoinstall) (4.12.3)\n",
            "Requirement already satisfied: six>=1.5 in /usr/local/lib/python3.10/dist-packages (from python-dateutil->dateparser) (1.16.0)\n",
            "Requirement already satisfied: charset-normalizer<4,>=2 in /usr/local/lib/python3.10/dist-packages (from requests->chromedriver_autoinstall) (3.3.2)\n",
            "Requirement already satisfied: h11<1,>=0.9.0 in /usr/local/lib/python3.10/dist-packages (from wsproto>=0.14->trio-websocket~=0.9->selenium) (0.14.0)\n",
            "Requirement already satisfied: soupsieve>1.2 in /usr/local/lib/python3.10/dist-packages (from beautifulsoup4->bs4->chromedriver_autoinstall) (2.5)\n"
          ]
        }
      ]
    },
    {
      "cell_type": "markdown",
      "metadata": {
        "id": "UhDewkdDao9S"
      },
      "source": [
        "To convert from thai text date string, we will use the parse method.  Note that the parse method assumes the BC year, not BE.  Thus, we will have to subtract 543 from the year.  In addition, weekday() returns day of week with 0=Monday, ..., 6=Sunday."
      ]
    },
    {
      "cell_type": "code",
      "execution_count": 10,
      "metadata": {
        "id": "iAVPjc0hao9T",
        "colab": {
          "base_uri": "https://localhost:8080/"
        },
        "outputId": "d217e7bf-4a8e-4c30-9507-e15268f0fb96"
      },
      "outputs": [
        {
          "output_type": "stream",
          "name": "stdout",
          "text": [
            "2563-01-17 00:00:00\n",
            "0\n",
            "2020-01-17 00:00:00\n",
            "4\n"
          ]
        }
      ],
      "source": [
        "dt = dateparser.parse('วันศุกร์ที่ 17 มกราคม 2563')\n",
        "\n",
        "# this will print out weekday == 0 (Monday)\n",
        "print(dt)\n",
        "print(dt.weekday())\n",
        "\n",
        "# this will print out weekday == 4 (Friday)\n",
        "dt = dt.replace(year=dt.year-543)\n",
        "print(dt)\n",
        "print(dt.weekday())"
      ]
    },
    {
      "cell_type": "code",
      "execution_count": null,
      "metadata": {
        "id": "x2MI5cO7ao9T",
        "colab": {
          "base_uri": "https://localhost:8080/"
        },
        "outputId": "1adc393e-1e3c-4b84-8663-b644b79b1474"
      },
      "outputs": [
        {
          "output_type": "stream",
          "name": "stdout",
          "text": [
            "2021-09-21 00:00:00\n",
            "1\n"
          ]
        }
      ],
      "source": [
        "dt = dateparser.parse('วันเสาร์ที่ 21 กันยายน 2564')\n",
        "dt = dt.replace(year=dt.year-543)\n",
        "print(dt)\n",
        "print(dt.weekday())"
      ]
    },
    {
      "cell_type": "markdown",
      "metadata": {
        "id": "IzWZA3Igao9U"
      },
      "source": [
        "Count the distribution of number of week days that are “วันพระ” for all three years and answer the following questions:"
      ]
    },
    {
      "cell_type": "markdown",
      "metadata": {
        "id": "nvU63MW_ao9U"
      },
      "source": [
        "## How many วันพระ in total (of 3 years)?"
      ]
    },
    {
      "cell_type": "code",
      "execution_count": 27,
      "metadata": {
        "id": "_FfFo-uyao9U",
        "colab": {
          "base_uri": "https://localhost:8080/"
        },
        "outputId": "6835f3db-57e8-47c3-fa03-4b817277583a"
      },
      "outputs": [
        {
          "output_type": "stream",
          "name": "stdout",
          "text": [
            "152\n"
          ]
        }
      ],
      "source": [
        "import requests\n",
        "from bs4 import BeautifulSoup\n",
        "\n",
        "base_urls = [\n",
        "    \"https://www.myhora.com/ปฏิทิน/วันพระ-พ.ศ.2565.aspx\",\n",
        "    \"https://www.myhora.com/ปฏิทิน/วันพระ-พ.ศ.2566.aspx\",\n",
        "    \"https://www.myhora.com/ปฏิทิน/วันพระ-พ.ศ.2567.aspx\"\n",
        "]\n",
        "\n",
        "days = []\n",
        "\n",
        "for url in base_urls :\n",
        "  data = requests.get(url)\n",
        "  # data.text\n",
        "  soup = BeautifulSoup(data.text, \"lxml\")\n",
        "  # print(soup.prettify())\n",
        "  divs = soup.find_all(\"div\", class_=\"bud-day-col\")\n",
        "  for div in divs:\n",
        "    if 'วัน' in div.text and not div.find(\"a\", href=True) and '(' not in div.text:\n",
        "      days.append(div)\n",
        "\n",
        "print(len(days))"
      ]
    },
    {
      "cell_type": "markdown",
      "metadata": {
        "id": "T_fDO1vvao9U"
      },
      "source": [
        "## How many days in total (of 3 years) that วันพระ is Monday?"
      ]
    },
    {
      "cell_type": "code",
      "execution_count": 29,
      "metadata": {
        "id": "pP7nV5nDao9V",
        "colab": {
          "base_uri": "https://localhost:8080/"
        },
        "outputId": "15b22b31-3ee9-45ce-a359-a633da4ae54e"
      },
      "outputs": [
        {
          "output_type": "stream",
          "name": "stdout",
          "text": [
            "21\n"
          ]
        }
      ],
      "source": [
        "days = []\n",
        "\n",
        "for url in base_urls :\n",
        "  data = requests.get(url)\n",
        "  # data.text\n",
        "  soup = BeautifulSoup(data.text, \"lxml\")\n",
        "  # print(soup.prettify())\n",
        "  divs = soup.find_all(\"div\", class_=\"bud-day-col\")\n",
        "  for div in divs:\n",
        "    if 'วันจันทร์' in div.text and not div.find(\"a\", href=True) and '(' not in div.text:\n",
        "      days.append(div)\n",
        "print(len(days))"
      ]
    },
    {
      "cell_type": "markdown",
      "metadata": {
        "id": "RYmJMLM_ao9V"
      },
      "source": [
        "## Which day of the week that has the minimum number of วันพระ?"
      ]
    },
    {
      "cell_type": "code",
      "execution_count": 34,
      "metadata": {
        "id": "RHgKyjH7ao9X",
        "colab": {
          "base_uri": "https://localhost:8080/"
        },
        "outputId": "08667e1f-c909-4583-af4c-a894707b0406"
      },
      "outputs": [
        {
          "output_type": "stream",
          "name": "stdout",
          "text": [
            "1\n"
          ]
        }
      ],
      "source": [
        "days = {}\n",
        "for i in range(7):\n",
        "  days[i] = 0\n",
        "\n",
        "for url in base_urls :\n",
        "  data = requests.get(url)\n",
        "  # data.text\n",
        "  soup = BeautifulSoup(data.text, \"lxml\")\n",
        "  # print(soup.prettify())\n",
        "  divs = soup.find_all(\"div\", class_=\"bud-day-col\")\n",
        "  for div in divs:\n",
        "    if 'วัน' in div.text and not div.find(\"a\", href=True) and '(' not in div.text:\n",
        "      # days.append(div.text)\n",
        "      dt = dateparser.parse(div.text)\n",
        "      dt = dt.replace(year=dt.year-543)\n",
        "      # print(div.text,dt.weekday())\n",
        "      days[dt.weekday()] += 1\n",
        "\n",
        "key = min(days, key=days.get)\n",
        "print(key)"
      ]
    },
    {
      "cell_type": "markdown",
      "metadata": {
        "id": "P5vjvuPVao9X"
      },
      "source": [
        "## Which day of the week that has the maximum number of วันพระ?"
      ]
    },
    {
      "cell_type": "code",
      "execution_count": 35,
      "metadata": {
        "id": "OC74LX1hao9X",
        "colab": {
          "base_uri": "https://localhost:8080/"
        },
        "outputId": "35a0c168-d4b5-402a-c46d-534b57da5cb2"
      },
      "outputs": [
        {
          "output_type": "stream",
          "name": "stdout",
          "text": [
            "6\n"
          ]
        }
      ],
      "source": [
        "days = {}\n",
        "for i in range(7):\n",
        "  days[i] = 0\n",
        "\n",
        "for url in base_urls :\n",
        "  data = requests.get(url)\n",
        "  # data.text\n",
        "  soup = BeautifulSoup(data.text, \"lxml\")\n",
        "  # print(soup.prettify())\n",
        "  divs = soup.find_all(\"div\", class_=\"bud-day-col\")\n",
        "  for div in divs:\n",
        "    if 'วัน' in div.text and not div.find(\"a\", href=True) and '(' not in div.text:\n",
        "      # days.append(div.text)\n",
        "      dt = dateparser.parse(div.text)\n",
        "      dt = dt.replace(year=dt.year-543)\n",
        "      # print(div.text,dt.weekday())\n",
        "      days[dt.weekday()] += 1\n",
        "\n",
        "key = max(days, key=days.get)\n",
        "print(key)"
      ]
    },
    {
      "cell_type": "code",
      "execution_count": null,
      "metadata": {
        "id": "iZ0LFw7aao9X"
      },
      "outputs": [],
      "source": []
    }
  ],
  "metadata": {
    "kernelspec": {
      "display_name": "Python 3",
      "name": "python3"
    },
    "language_info": {
      "codemirror_mode": {
        "name": "ipython",
        "version": 3
      },
      "file_extension": ".py",
      "mimetype": "text/x-python",
      "name": "python",
      "nbconvert_exporter": "python",
      "pygments_lexer": "ipython3",
      "version": "3.11.4"
    },
    "toc": {
      "base_numbering": 1,
      "nav_menu": {},
      "number_sections": true,
      "sideBar": true,
      "skip_h1_title": false,
      "title_cell": "Table of Contents",
      "title_sidebar": "Contents",
      "toc_cell": false,
      "toc_position": {},
      "toc_section_display": true,
      "toc_window_display": false
    },
    "varInspector": {
      "cols": {
        "lenName": 16,
        "lenType": 16,
        "lenVar": 40
      },
      "kernels_config": {
        "python": {
          "delete_cmd_postfix": "",
          "delete_cmd_prefix": "del ",
          "library": "var_list.py",
          "varRefreshCmd": "print(var_dic_list())"
        },
        "r": {
          "delete_cmd_postfix": ") ",
          "delete_cmd_prefix": "rm(",
          "library": "var_list.r",
          "varRefreshCmd": "cat(var_dic_list()) "
        }
      },
      "types_to_exclude": [
        "module",
        "function",
        "builtin_function_or_method",
        "instance",
        "_Feature"
      ],
      "window_display": false
    },
    "colab": {
      "provenance": [],
      "gpuType": "V100"
    },
    "accelerator": "GPU"
  },
  "nbformat": 4,
  "nbformat_minor": 0
}